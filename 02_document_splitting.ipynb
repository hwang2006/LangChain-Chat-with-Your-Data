{
 "cells": [
  {
   "cell_type": "code",
   "execution_count": 1,
   "id": "06084507-be50-4bb5-8873-718416f35330",
   "metadata": {},
   "outputs": [],
   "source": [
    "import os\n",
    "import openai\n",
    "import sys\n",
    "sys.path.append('../..')\n",
    "\n",
    "from dotenv import load_dotenv, find_dotenv\n",
    "_ = load_dotenv(find_dotenv()) # read local .env file\n",
    "\n",
    "openai.api_key  = os.environ['OPENAI_API_KEY']"
   ]
  },
  {
   "cell_type": "code",
   "execution_count": 2,
   "id": "e5c43842-496e-4711-b7a6-420054a68524",
   "metadata": {
    "tags": []
   },
   "outputs": [],
   "source": [
    "from langchain.text_splitter import RecursiveCharacterTextSplitter, CharacterTextSplitter"
   ]
  },
  {
   "cell_type": "code",
   "execution_count": 3,
   "id": "fc1c2b68-270c-4eee-9621-4d61ee8af0b6",
   "metadata": {
    "tags": []
   },
   "outputs": [],
   "source": [
    "chunk_size =26\n",
    "chunk_overlap = 4"
   ]
  },
  {
   "cell_type": "code",
   "execution_count": 4,
   "id": "5aa1b62e-29f3-4a5a-9922-063fe441f72e",
   "metadata": {
    "tags": []
   },
   "outputs": [],
   "source": [
    "r_splitter = RecursiveCharacterTextSplitter(\n",
    "    chunk_size=chunk_size,\n",
    "    chunk_overlap=chunk_overlap\n",
    ")\n",
    "c_splitter = CharacterTextSplitter(\n",
    "    chunk_size=chunk_size,\n",
    "    chunk_overlap=chunk_overlap\n",
    ")"
   ]
  },
  {
   "cell_type": "code",
   "execution_count": 5,
   "id": "10be7f08-a6ea-4580-9d6c-06605c38be60",
   "metadata": {
    "tags": []
   },
   "outputs": [],
   "source": [
    "text1 = 'abcdefghijklmnopqrstuvwxyz'"
   ]
  },
  {
   "cell_type": "code",
   "execution_count": 6,
   "id": "ef76e312-92f9-490c-9bbc-23f8b797a44a",
   "metadata": {
    "tags": []
   },
   "outputs": [
    {
     "data": {
      "text/plain": [
       "['abcdefghijklmnopqrstuvwxyz']"
      ]
     },
     "execution_count": 6,
     "metadata": {},
     "output_type": "execute_result"
    }
   ],
   "source": [
    "r_splitter.split_text(text1)"
   ]
  },
  {
   "cell_type": "code",
   "execution_count": 7,
   "id": "7c816de1-7364-48f8-91bd-daf36b8a97da",
   "metadata": {
    "tags": []
   },
   "outputs": [],
   "source": [
    "text2 = 'abcdefghijklmnopqrstuvwxyzabcdefg'"
   ]
  },
  {
   "cell_type": "code",
   "execution_count": 8,
   "id": "427152f8-103f-491a-a532-79fc74417818",
   "metadata": {
    "tags": []
   },
   "outputs": [
    {
     "data": {
      "text/plain": [
       "['abcdefghijklmnopqrstuvwxyz', 'wxyzabcdefg']"
      ]
     },
     "execution_count": 8,
     "metadata": {},
     "output_type": "execute_result"
    }
   ],
   "source": [
    "r_splitter.split_text(text2)"
   ]
  },
  {
   "cell_type": "code",
   "execution_count": 9,
   "id": "cfb5cb2c-3d79-4d70-ab74-19695d0474fc",
   "metadata": {
    "tags": []
   },
   "outputs": [
    {
     "data": {
      "text/plain": [
       "['abcdefghijklmnopqrstuvwxyzabcdefg']"
      ]
     },
     "execution_count": 9,
     "metadata": {},
     "output_type": "execute_result"
    }
   ],
   "source": [
    "c_splitter.split_text(text2)"
   ]
  },
  {
   "cell_type": "code",
   "execution_count": 10,
   "id": "0d11e52f-8d64-49ba-add9-bddc173bfc71",
   "metadata": {
    "tags": []
   },
   "outputs": [],
   "source": [
    "text21 = 'abcdefghijklmnopqrstuvwxyzab\\n\\ncdefg\\nh'"
   ]
  },
  {
   "cell_type": "code",
   "execution_count": 11,
   "id": "f59ec2d6-b24f-4d60-8e99-ea347884a0f5",
   "metadata": {
    "tags": []
   },
   "outputs": [
    {
     "data": {
      "text/plain": [
       "['abcdefghijklmnopqrstuvwxyz', 'wxyzab', 'cdefg\\nh']"
      ]
     },
     "execution_count": 11,
     "metadata": {},
     "output_type": "execute_result"
    }
   ],
   "source": [
    "r_splitter.split_text(text21)"
   ]
  },
  {
   "cell_type": "code",
   "execution_count": 12,
   "id": "8467f8f6-6ec1-486c-85f9-7c78e9a22775",
   "metadata": {
    "tags": []
   },
   "outputs": [
    {
     "name": "stderr",
     "output_type": "stream",
     "text": [
      "Created a chunk of size 28, which is longer than the specified 26\n"
     ]
    },
    {
     "data": {
      "text/plain": [
       "['abcdefghijklmnopqrstuvwxyzab', 'cdefg\\nh']"
      ]
     },
     "execution_count": 12,
     "metadata": {},
     "output_type": "execute_result"
    }
   ],
   "source": [
    "c_splitter.split_text(text21)"
   ]
  },
  {
   "cell_type": "code",
   "execution_count": 13,
   "id": "858f6589-9560-4a15-8d62-455b0ca0d595",
   "metadata": {
    "tags": []
   },
   "outputs": [
    {
     "name": "stderr",
     "output_type": "stream",
     "text": [
      "Created a chunk of size 28, which is longer than the specified 26\n"
     ]
    },
    {
     "data": {
      "text/plain": [
       "['abcdefghijklmnopqrstuvwxyzab', 'cdefg\\nh']"
      ]
     },
     "execution_count": 13,
     "metadata": {},
     "output_type": "execute_result"
    }
   ],
   "source": [
    "c_splitter = CharacterTextSplitter(\n",
    "    chunk_size=chunk_size,\n",
    "    chunk_overlap=chunk_overlap,\n",
    ")\n",
    "c_splitter.split_text(text21)"
   ]
  },
  {
   "cell_type": "code",
   "execution_count": 14,
   "id": "eaaecb41-883c-466b-892e-65642ad22939",
   "metadata": {
    "tags": []
   },
   "outputs": [],
   "source": [
    "text21 = 'abcdefghijkl mnopqrstuvwxyz ab\\ncdefg \\nh'\n",
    "#c_splitter = CharacterTextSplitter(\n",
    "#    chunk_size=chunk_size,\n",
    "#    chunk_overlap=chunk_overlap,\n",
    "#    seperator = ' '\n",
    "#)\n",
    "#c_splitter.split_text(text21)"
   ]
  },
  {
   "cell_type": "code",
   "execution_count": 15,
   "id": "ef8814fe-c682-4a55-af6d-ad9d6c26f149",
   "metadata": {
    "tags": []
   },
   "outputs": [],
   "source": [
    "text3 = \"a b c d e f g h i j k l m n o p q r s t u v w x y z\""
   ]
  },
  {
   "cell_type": "code",
   "execution_count": 16,
   "id": "6aaee49c-a9a7-4252-a82b-eacd939e2890",
   "metadata": {
    "tags": []
   },
   "outputs": [
    {
     "data": {
      "text/plain": [
       "['a b c d e f g h i j k l m', 'l m n o p q r s t u v w x', 'w x y z']"
      ]
     },
     "execution_count": 16,
     "metadata": {},
     "output_type": "execute_result"
    }
   ],
   "source": [
    "r_splitter.split_text(text3)"
   ]
  },
  {
   "cell_type": "code",
   "execution_count": 17,
   "id": "bb5f6d3d-265c-46bd-9541-3baa179b6272",
   "metadata": {
    "tags": []
   },
   "outputs": [
    {
     "data": {
      "text/plain": [
       "['a b c d e f g h i j k l m n o p q r s t u v w x y z']"
      ]
     },
     "execution_count": 17,
     "metadata": {},
     "output_type": "execute_result"
    }
   ],
   "source": [
    "c_splitter.split_text(text3)"
   ]
  },
  {
   "cell_type": "code",
   "execution_count": 18,
   "id": "59b106a4-e17c-45d2-a567-304073c5d9a4",
   "metadata": {
    "tags": []
   },
   "outputs": [],
   "source": [
    "c_splitter = CharacterTextSplitter(\n",
    "    chunk_size=chunk_size,\n",
    "    chunk_overlap=chunk_overlap,\n",
    "    separator = ' '\n",
    ")"
   ]
  },
  {
   "cell_type": "code",
   "execution_count": 19,
   "id": "b3a1d033-7ec1-4aed-9dbd-8965e17f9cf3",
   "metadata": {
    "tags": []
   },
   "outputs": [
    {
     "data": {
      "text/plain": [
       "['a b c d e f g h i j k l m', 'l m n o p q r s t u v w x', 'w x y z']"
      ]
     },
     "execution_count": 19,
     "metadata": {},
     "output_type": "execute_result"
    }
   ],
   "source": [
    "c_splitter.split_text(text3)"
   ]
  },
  {
   "cell_type": "code",
   "execution_count": 20,
   "id": "ff29d136-c649-4ef9-8691-8d8008be113c",
   "metadata": {
    "tags": []
   },
   "outputs": [
    {
     "data": {
      "text/plain": [
       "['abcdefghijkl', 'mnopqrstuvwxyz ab\\ncdefg \\nh']"
      ]
     },
     "execution_count": 20,
     "metadata": {},
     "output_type": "execute_result"
    }
   ],
   "source": [
    "c_splitter.split_text(text21)"
   ]
  },
  {
   "cell_type": "code",
   "execution_count": 21,
   "id": "4a3535a0-2304-416e-a3c1-483b9fe2eb5e",
   "metadata": {
    "tags": []
   },
   "outputs": [
    {
     "data": {
      "text/plain": [
       "['abcdefghijkl', 'mnopqrstuvwxyz ab', 'cdefg \\nh']"
      ]
     },
     "execution_count": 21,
     "metadata": {},
     "output_type": "execute_result"
    }
   ],
   "source": [
    "r_splitter.split_text(text21)"
   ]
  },
  {
   "cell_type": "code",
   "execution_count": 22,
   "id": "73c81fb7-21a2-4f30-9ed3-4e01ea812e29",
   "metadata": {
    "tags": []
   },
   "outputs": [],
   "source": [
    "some_text = \"\"\"When writing documents, writers will use document structure to group content. \\\n",
    "This can convey to the reader, which idea's are related. For example, closely related ideas \\\n",
    "are in sentances. Similar ideas are in paragraphs. Paragraphs form a document. \\n\\n  \\\n",
    "Paragraphs are often delimited with a carriage return or two carriage returns. \\\n",
    "Carriage returns are the \"backslash n\" you see embedded in this string. \\\n",
    "Sentences have a period at the end, but also, have a space.\\\n",
    "and words are separated by space.\"\"\""
   ]
  },
  {
   "cell_type": "code",
   "execution_count": 23,
   "id": "18751951-ccc9-4386-92e9-583d9e8dd212",
   "metadata": {
    "tags": []
   },
   "outputs": [
    {
     "data": {
      "text/plain": [
       "496"
      ]
     },
     "execution_count": 23,
     "metadata": {},
     "output_type": "execute_result"
    }
   ],
   "source": [
    "len(some_text)"
   ]
  },
  {
   "cell_type": "code",
   "execution_count": 24,
   "id": "3fe4f507-1262-4dde-8862-472d3379a04d",
   "metadata": {
    "tags": []
   },
   "outputs": [],
   "source": [
    "c_splitter = CharacterTextSplitter(\n",
    "    chunk_size=450,\n",
    "    chunk_overlap=0,\n",
    "    separator = ' '\n",
    ")\n",
    "r_splitter = RecursiveCharacterTextSplitter(\n",
    "    chunk_size=450,\n",
    "    chunk_overlap=0, \n",
    "    separators=[\"\\n\\n\", \"\\n\", \" \", \"\"]\n",
    ")"
   ]
  },
  {
   "cell_type": "code",
   "execution_count": 25,
   "id": "9c508ab9-67fa-4d92-8727-673337748903",
   "metadata": {
    "tags": []
   },
   "outputs": [
    {
     "data": {
      "text/plain": [
       "['When writing documents, writers will use document structure to group content. This can convey to the reader, which idea\\'s are related. For example, closely related ideas are in sentances. Similar ideas are in paragraphs. Paragraphs form a document. \\n\\n Paragraphs are often delimited with a carriage return or two carriage returns. Carriage returns are the \"backslash n\" you see embedded in this string. Sentences have a period at the end, but also,',\n",
       " 'have a space.and words are separated by space.']"
      ]
     },
     "execution_count": 25,
     "metadata": {},
     "output_type": "execute_result"
    }
   ],
   "source": [
    "c_splitter.split_text(some_text)"
   ]
  },
  {
   "cell_type": "code",
   "execution_count": 26,
   "id": "d7516bd1-8f99-4bed-acd2-2a79ec49b6e3",
   "metadata": {
    "tags": []
   },
   "outputs": [
    {
     "data": {
      "text/plain": [
       "453"
      ]
     },
     "execution_count": 26,
     "metadata": {},
     "output_type": "execute_result"
    }
   ],
   "source": [
    "text = \"\"\"When writing documents, writers will use document structure to group content. \\\n",
    "This can convey to the reader, which idea's are related. For example, closely related ideas \\\n",
    "are in sentances. Similar ideas are in paragraphs. Paragraphs form a document. \\n\\n  \\\n",
    "Paragraphs are often delimited with a carriage return or two carriage returns. \\\n",
    "Carriage returns are the \"backslash n\" you see embedded in this string. \\\n",
    "Sentences have a period at the end,     but also,\"\"\"\n",
    "len(text)"
   ]
  },
  {
   "cell_type": "code",
   "execution_count": 27,
   "id": "cb2e3854-8bd6-49ae-b6c4-5c3ef4190fd6",
   "metadata": {
    "tags": []
   },
   "outputs": [
    {
     "data": {
      "text/plain": [
       "[\"When writing documents, writers will use document structure to group content. This can convey to the reader, which idea's are related. For example, closely related ideas are in sentances. Similar ideas are in paragraphs. Paragraphs form a document.\",\n",
       " 'Paragraphs are often delimited with a carriage return or two carriage returns. Carriage returns are the \"backslash n\" you see embedded in this string. Sentences have a period at the end, but also, have a space.and words are separated by space.']"
      ]
     },
     "execution_count": 27,
     "metadata": {},
     "output_type": "execute_result"
    }
   ],
   "source": [
    "r_splitter.split_text(some_text)"
   ]
  },
  {
   "cell_type": "code",
   "execution_count": 28,
   "id": "2ec0c63e-fe15-4e47-a848-6f214cc3cfe6",
   "metadata": {},
   "outputs": [
    {
     "data": {
      "text/plain": [
       "[\"When writing documents, writers will use document structure to group content. This can convey to the reader, which idea's are related. For example,\",\n",
       " 'closely related ideas are in sentances. Similar ideas are in paragraphs. Paragraphs form a document.',\n",
       " 'Paragraphs are often delimited with a carriage return or two carriage returns. Carriage returns are the \"backslash n\" you see embedded in this',\n",
       " 'string. Sentences have a period at the end, but also, have a space.and words are separated by space.']"
      ]
     },
     "execution_count": 28,
     "metadata": {},
     "output_type": "execute_result"
    }
   ],
   "source": [
    "r_splitter = RecursiveCharacterTextSplitter(\n",
    "    chunk_size=150,\n",
    "    chunk_overlap=0,\n",
    "    separators=[\"\\n\\n\", \"\\n\", \"\\. \", \" \", \"\"]\n",
    ")\n",
    "r_splitter.split_text(some_text)"
   ]
  },
  {
   "cell_type": "code",
   "execution_count": 29,
   "id": "e15506bd-e681-4b30-973e-953c67fe6721",
   "metadata": {},
   "outputs": [
    {
     "data": {
      "text/plain": [
       "[\"When writing documents, writers will use document structure to group content. This can convey to the reader, which idea's are related. For example,\",\n",
       " 'closely related ideas are in sentances. Similar ideas are in paragraphs. Paragraphs form a document.',\n",
       " 'Paragraphs are often delimited with a carriage return or two carriage returns. Carriage returns are the \"backslash n\" you see embedded in this',\n",
       " 'string. Sentences have a period at the end, but also, have a space.and words are separated by space.']"
      ]
     },
     "execution_count": 29,
     "metadata": {},
     "output_type": "execute_result"
    }
   ],
   "source": [
    "r_splitter = RecursiveCharacterTextSplitter(\n",
    "    chunk_size=150,\n",
    "    chunk_overlap=0,\n",
    "    separators=[\"\\n\\n\", \"\\n\", \"\\. \", \" \", \"\"]\n",
    ")\n",
    "r_splitter.split_text(some_text)"
   ]
  },
  {
   "cell_type": "code",
   "execution_count": 30,
   "id": "037749a8-95c9-4103-9d4b-f1c91e24b9c9",
   "metadata": {
    "tags": []
   },
   "outputs": [
    {
     "data": {
      "text/plain": [
       "[\"When writing documents, writers will use document structure to group content. This can convey to the reader, which idea's are related. For example,\",\n",
       " 'closely related ideas are in sentances. Similar ideas are in paragraphs. Paragraphs form a document.',\n",
       " 'Paragraphs are often delimited with a carriage return or two carriage returns. Carriage returns are the \"backslash n\" you see embedded in this',\n",
       " 'string. Sentences have a period at the end, but also, have a space.and words are separated by space.']"
      ]
     },
     "execution_count": 30,
     "metadata": {},
     "output_type": "execute_result"
    }
   ],
   "source": [
    "r_splitter = RecursiveCharacterTextSplitter(\n",
    "    chunk_size=150,\n",
    "    chunk_overlap=0,\n",
    "    separators=[\"\\n\\n\", \"\\n\", \"(?<=\\. )\", \" \", \"\"]\n",
    ")\n",
    "r_splitter.split_text(some_text)"
   ]
  },
  {
   "cell_type": "code",
   "execution_count": 31,
   "id": "ffecfaf5-a5a4-4308-a089-67c523d873b3",
   "metadata": {
    "tags": []
   },
   "outputs": [],
   "source": [
    "from langchain.document_loaders import PyPDFLoader\n",
    "loader = PyPDFLoader(\"docs/cs229_lectures/MachineLearning-Lecture01.pdf\")\n",
    "pages = loader.load()"
   ]
  },
  {
   "cell_type": "code",
   "execution_count": 32,
   "id": "4a9a3b05-50c0-469d-b85e-e0e053a732fc",
   "metadata": {
    "tags": []
   },
   "outputs": [
    {
     "data": {
      "text/plain": [
       "22"
      ]
     },
     "execution_count": 32,
     "metadata": {},
     "output_type": "execute_result"
    }
   ],
   "source": [
    "len(pages)"
   ]
  },
  {
   "cell_type": "code",
   "execution_count": 33,
   "id": "f67b0caa-3109-4641-a95f-0ca37872ed43",
   "metadata": {
    "tags": []
   },
   "outputs": [
    {
     "data": {
      "text/plain": [
       "[Document(page_content='MachineLearning-Lecture01  \\nInstructor (Andrew Ng):  Okay. Good morning. Welcome to CS229, the machine \\nlearning class. So what I wanna do today is ju st spend a little time going over the logistics \\nof the class, and then we\\'ll start to  talk a bit about machine learning.  \\nBy way of introduction, my name\\'s  Andrew Ng and I\\'ll be instru ctor for this class. And so \\nI personally work in machine learning, and I\\' ve worked on it for about 15 years now, and \\nI actually think that machine learning is th e most exciting field of all the computer \\nsciences. So I\\'m actually always excited about  teaching this class. Sometimes I actually \\nthink that machine learning is not only the most exciting thin g in computer science, but \\nthe most exciting thing in all of human e ndeavor, so maybe a little bias there.  \\nI also want to introduce the TAs, who are all graduate students doing research in or \\nrelated to the machine learni ng and all aspects of machin e learning. Paul Baumstarck \\nworks in machine learning and computer vision.  Catie Chang is actually a neuroscientist \\nwho applies machine learning algorithms to try to understand the human brain. Tom Do \\nis another PhD student, works in computa tional biology and in sort of the basic \\nfundamentals of human learning. Zico Kolter is  the head TA — he\\'s head TA two years \\nin a row now — works in machine learning a nd applies them to a bunch of robots. And \\nDaniel Ramage is — I guess he\\'s not here  — Daniel applies l earning algorithms to \\nproblems in natural language processing.  \\nSo you\\'ll get to know the TAs and me much be tter throughout this quarter, but just from \\nthe sorts of things the TA\\'s do, I hope you can  already tell that machine learning is a \\nhighly interdisciplinary topic in which just the TAs find l earning algorithms to problems \\nin computer vision and biology and robots a nd language. And machine learning is one of \\nthose things that has and is having a large impact on many applications.  \\nSo just in my own daily work, I actually frequently end up talking to people like \\nhelicopter pilots to biologists to people in  computer systems or databases to economists \\nand sort of also an unending stream of  people from industry coming to Stanford \\ninterested in applying machine learni ng methods to their own problems.  \\nSo yeah, this is fun. A couple of weeks ago, a student actually forwar ded to me an article \\nin \"Computer World\" about the 12 IT skills th at employers can\\'t say no to. So it\\'s about \\nsort of the 12 most desirabl e skills in all of IT and all of information technology, and \\ntopping the list was actually machine lear ning. So I think this is a good time to be \\nlearning this stuff and learning algorithms and having a large impact on many segments \\nof science and industry.  \\nI\\'m actually curious about something. Learni ng algorithms is one of the things that \\ntouches many areas of science and industrie s, and I\\'m just kind of curious. How many \\npeople here are computer science majors, are in the computer science department? Okay. \\nAbout half of you. How many people are from  EE? Oh, okay, maybe about a fifth. How ', metadata={'source': 'docs/cs229_lectures/MachineLearning-Lecture01.pdf', 'page': 0}),\n",
       " Document(page_content=\"many biologers are there here? Wow, just a few, not many. I'm surprised. Anyone from \\nstatistics? Okay, a few. So where are the rest of you from?  \\nStudent : iCME.  \\nInstructor (Andrew Ng) : Say again?  \\nStudent : iCME.  \\nInstructor (Andrew Ng) : iCME. Cool.  \\nStudent : [Inaudible].  \\nInstructor (Andrew Ng) : Civi and what else?  \\nStudent : [Inaudible]  \\nInstructor (Andrew Ng) : Synthesis, [inaudible] systems. Yeah, cool.  \\nStudent : Chemi.  \\nInstructor (Andrew Ng) : Chemi. Cool.  \\nStudent : [Inaudible].  \\nInstructor (Andrew Ng) : Aero/astro. Yes, right. Yeah, okay, cool. Anyone else?  \\nStudent : [Inaudible].  \\nInstructor (Andrew Ng) : Pardon? MSNE. All ri ght. Cool. Yeah.  \\nStudent : [Inaudible].  \\nInstructor (Andrew Ng) : Pardon?  \\nStudent : [Inaudible].  \\nInstructor (Andrew Ng) : Endo —  \\nStudent : [Inaudible].  \\nInstructor (Andrew Ng) : Oh, I see, industry. Okay. Cool. Great, great. So as you can \\ntell from a cross-section of th is class, I think we're a very diverse audience in this room, \\nand that's one of the things that makes this class fun to teach and fun to be in, I think.  \", metadata={'source': 'docs/cs229_lectures/MachineLearning-Lecture01.pdf', 'page': 1})]"
      ]
     },
     "execution_count": 33,
     "metadata": {},
     "output_type": "execute_result"
    }
   ],
   "source": [
    "pages[:2]"
   ]
  },
  {
   "cell_type": "code",
   "execution_count": 34,
   "id": "eeb8b516-648f-49f2-8d92-cf1f9916891c",
   "metadata": {
    "tags": []
   },
   "outputs": [],
   "source": [
    "from langchain.text_splitter import CharacterTextSplitter\n",
    "text_splitter = CharacterTextSplitter(\n",
    "    separator=\"\\n\",\n",
    "    chunk_size=1000,\n",
    "    chunk_overlap=150,\n",
    "    length_function=len\n",
    ")"
   ]
  },
  {
   "cell_type": "code",
   "execution_count": 35,
   "id": "64ca07e7-43fd-4d39-8d8a-758148944a89",
   "metadata": {
    "tags": []
   },
   "outputs": [],
   "source": [
    "docs = text_splitter.split_documents(pages)"
   ]
  },
  {
   "cell_type": "code",
   "execution_count": 36,
   "id": "10cfd7ea-8297-4be8-b932-a727e359338f",
   "metadata": {
    "tags": []
   },
   "outputs": [
    {
     "data": {
      "text/plain": [
       "77"
      ]
     },
     "execution_count": 36,
     "metadata": {},
     "output_type": "execute_result"
    }
   ],
   "source": [
    "len(docs)"
   ]
  },
  {
   "cell_type": "code",
   "execution_count": 37,
   "id": "1f2a560e-740b-4a84-8709-8fadc1a84ae4",
   "metadata": {
    "tags": []
   },
   "outputs": [
    {
     "data": {
      "text/plain": [
       "22"
      ]
     },
     "execution_count": 37,
     "metadata": {},
     "output_type": "execute_result"
    }
   ],
   "source": [
    "len(pages)"
   ]
  },
  {
   "cell_type": "code",
   "execution_count": 38,
   "id": "a36b3a3c-b92d-4d42-bf8f-eca5c25f6ea2",
   "metadata": {
    "tags": []
   },
   "outputs": [],
   "source": [
    "from langchain.document_loaders import NotionDirectoryLoader\n",
    "loader = NotionDirectoryLoader(\"docs/Notion_DB\")\n",
    "notion_db = loader.load()"
   ]
  },
  {
   "cell_type": "code",
   "execution_count": 39,
   "id": "d947e61c-ef25-4e83-9c91-4c42857f89c8",
   "metadata": {
    "tags": []
   },
   "outputs": [],
   "source": [
    "docs = text_splitter.split_documents(notion_db)"
   ]
  },
  {
   "cell_type": "code",
   "execution_count": 40,
   "id": "483a5cb8-4855-4eed-b1d9-e06c7d9451f1",
   "metadata": {
    "tags": []
   },
   "outputs": [
    {
     "data": {
      "text/plain": [
       "1"
      ]
     },
     "execution_count": 40,
     "metadata": {},
     "output_type": "execute_result"
    }
   ],
   "source": [
    "len(notion_db)"
   ]
  },
  {
   "cell_type": "code",
   "execution_count": 41,
   "id": "3a053aba-656a-4e57-9372-d07097f9a41a",
   "metadata": {
    "tags": []
   },
   "outputs": [
    {
     "data": {
      "text/plain": [
       "8"
      ]
     },
     "execution_count": 41,
     "metadata": {},
     "output_type": "execute_result"
    }
   ],
   "source": [
    "len(docs)"
   ]
  },
  {
   "cell_type": "code",
   "execution_count": 42,
   "id": "6ebe28d3-8458-493d-b0b5-9c3a2fc8176d",
   "metadata": {
    "tags": []
   },
   "outputs": [
    {
     "name": "stdout",
     "output_type": "stream",
     "text": [
      "Looking in indexes: https://pypi.org/simple, https://pypi.ngc.nvidia.com\n",
      "Requirement already satisfied: tiktoken in /scratch/qualis/miniconda3/envs/langchain2/lib/python3.10/site-packages (0.5.2)\n",
      "Requirement already satisfied: regex>=2022.1.18 in /scratch/qualis/miniconda3/envs/langchain2/lib/python3.10/site-packages (from tiktoken) (2023.10.3)\n",
      "Requirement already satisfied: requests>=2.26.0 in /scratch/qualis/miniconda3/envs/langchain2/lib/python3.10/site-packages (from tiktoken) (2.31.0)\n",
      "Requirement already satisfied: charset-normalizer<4,>=2 in /scratch/qualis/miniconda3/envs/langchain2/lib/python3.10/site-packages (from requests>=2.26.0->tiktoken) (2.0.4)\n",
      "Requirement already satisfied: idna<4,>=2.5 in /scratch/qualis/miniconda3/envs/langchain2/lib/python3.10/site-packages (from requests>=2.26.0->tiktoken) (3.4)\n",
      "Requirement already satisfied: urllib3<3,>=1.21.1 in /scratch/qualis/miniconda3/envs/langchain2/lib/python3.10/site-packages (from requests>=2.26.0->tiktoken) (1.26.18)\n",
      "Requirement already satisfied: certifi>=2017.4.17 in /scratch/qualis/miniconda3/envs/langchain2/lib/python3.10/site-packages (from requests>=2.26.0->tiktoken) (2023.11.17)\n"
     ]
    }
   ],
   "source": [
    "!pip install tiktoken"
   ]
  },
  {
   "cell_type": "code",
   "execution_count": 43,
   "id": "1324c1cb-a17d-4d40-ab94-68a0939a5b85",
   "metadata": {
    "tags": []
   },
   "outputs": [],
   "source": [
    "from langchain.text_splitter import TokenTextSplitter"
   ]
  },
  {
   "cell_type": "code",
   "execution_count": 44,
   "id": "7c275e7a-61a9-4b8e-a723-35fb02f96f70",
   "metadata": {
    "tags": []
   },
   "outputs": [],
   "source": [
    "text_splitter = TokenTextSplitter(chunk_size=1, chunk_overlap=0)"
   ]
  },
  {
   "cell_type": "code",
   "execution_count": 45,
   "id": "d07f5b80-a86a-4fa2-a3e6-20627848808b",
   "metadata": {
    "tags": []
   },
   "outputs": [],
   "source": [
    "text1 = \"foo bar bazzyfoo\""
   ]
  },
  {
   "cell_type": "code",
   "execution_count": 46,
   "id": "1d6c57fa-73a6-4924-bc9d-f8ea13b3391f",
   "metadata": {
    "tags": []
   },
   "outputs": [
    {
     "data": {
      "text/plain": [
       "['foo', ' bar', ' b', 'az', 'zy', 'foo']"
      ]
     },
     "execution_count": 46,
     "metadata": {},
     "output_type": "execute_result"
    }
   ],
   "source": [
    "text_splitter.split_text(text1)"
   ]
  },
  {
   "cell_type": "code",
   "execution_count": 47,
   "id": "116afb7b-25ba-4da8-aa54-0448c68bdb3c",
   "metadata": {
    "tags": []
   },
   "outputs": [],
   "source": [
    "text_splitter = TokenTextSplitter(chunk_size=10, chunk_overlap=0)"
   ]
  },
  {
   "cell_type": "code",
   "execution_count": 48,
   "id": "7a2db932-5de7-460f-8dbe-8461cf102eae",
   "metadata": {
    "tags": []
   },
   "outputs": [
    {
     "data": {
      "text/plain": [
       "['foo bar bazzyfoo']"
      ]
     },
     "execution_count": 48,
     "metadata": {},
     "output_type": "execute_result"
    }
   ],
   "source": [
    "text_splitter.split_text(text1)"
   ]
  },
  {
   "cell_type": "code",
   "execution_count": 49,
   "id": "3263a188-8c64-46e3-9dcb-dc0afe7dc7e4",
   "metadata": {
    "tags": []
   },
   "outputs": [],
   "source": [
    "docs = text_splitter.split_documents(pages)"
   ]
  },
  {
   "cell_type": "code",
   "execution_count": 50,
   "id": "034c33cb-aad7-449f-980a-5409b29ca1d0",
   "metadata": {
    "tags": []
   },
   "outputs": [
    {
     "data": {
      "text/plain": [
       "1557"
      ]
     },
     "execution_count": 50,
     "metadata": {},
     "output_type": "execute_result"
    }
   ],
   "source": [
    "len(docs)"
   ]
  },
  {
   "cell_type": "code",
   "execution_count": 51,
   "id": "f3c43844-bfe5-4b17-a349-836962d39db6",
   "metadata": {
    "tags": []
   },
   "outputs": [
    {
     "data": {
      "text/plain": [
       "Document(page_content='MachineLearning-Lecture01  \\n', metadata={'source': 'docs/cs229_lectures/MachineLearning-Lecture01.pdf', 'page': 0})"
      ]
     },
     "execution_count": 51,
     "metadata": {},
     "output_type": "execute_result"
    }
   ],
   "source": [
    "docs[0]"
   ]
  },
  {
   "cell_type": "code",
   "execution_count": 52,
   "id": "a9554d04-2b5d-4177-b740-44df58a7f854",
   "metadata": {
    "tags": []
   },
   "outputs": [
    {
     "data": {
      "text/plain": [
       "{'source': 'docs/cs229_lectures/MachineLearning-Lecture01.pdf', 'page': 0}"
      ]
     },
     "execution_count": 52,
     "metadata": {},
     "output_type": "execute_result"
    }
   ],
   "source": [
    "pages[0].metadata"
   ]
  },
  {
   "cell_type": "code",
   "execution_count": 53,
   "id": "5e9ce521-cff6-473f-bb35-3d680f678759",
   "metadata": {
    "tags": []
   },
   "outputs": [
    {
     "data": {
      "text/plain": [
       "Document(page_content=' Pardon? MSNE. All ri g', metadata={'source': 'docs/cs229_lectures/MachineLearning-Lecture01.pdf', 'page': 1})"
      ]
     },
     "execution_count": 53,
     "metadata": {},
     "output_type": "execute_result"
    }
   ],
   "source": [
    "docs[100]"
   ]
  },
  {
   "cell_type": "code",
   "execution_count": 54,
   "id": "160dc925-3ceb-4c74-aec6-aabcede11d59",
   "metadata": {
    "tags": []
   },
   "outputs": [
    {
     "data": {
      "text/plain": [
       "{'source': 'docs/cs229_lectures/MachineLearning-Lecture01.pdf', 'page': 1}"
      ]
     },
     "execution_count": 54,
     "metadata": {},
     "output_type": "execute_result"
    }
   ],
   "source": [
    "pages[1].metadata"
   ]
  },
  {
   "cell_type": "code",
   "execution_count": 55,
   "id": "ced1ecf5-6d66-401b-88dd-2e3181aad19b",
   "metadata": {
    "tags": []
   },
   "outputs": [],
   "source": [
    "from langchain.document_loaders import NotionDirectoryLoader\n",
    "from langchain.text_splitter import MarkdownHeaderTextSplitter"
   ]
  },
  {
   "cell_type": "code",
   "execution_count": 56,
   "id": "df3112c1-f3e8-433a-b561-e18165444b38",
   "metadata": {
    "tags": []
   },
   "outputs": [],
   "source": [
    "markdown_document = \"\"\"# Title\\n\\n \\\n",
    "## Chapter 1\\n\\n \\\n",
    "Hi this is Jim\\n\\n Hi this is Joe\\n\\n \\\n",
    "### Section \\n\\n \\\n",
    "Hi this is Lance \\n\\n \n",
    "## Chapter 2\\n\\n \\\n",
    "Hi this is Molly\"\"\""
   ]
  },
  {
   "cell_type": "code",
   "execution_count": 57,
   "id": "f3db5f00-71a6-44c8-9dcc-3e4bbb2f6799",
   "metadata": {
    "tags": []
   },
   "outputs": [],
   "source": [
    "headers_to_split_on = [\n",
    "    (\"#\", \"Header 1\"),\n",
    "    (\"##\", \"Header 2\"),\n",
    "    (\"###\", \"Header 3\"),\n",
    "]"
   ]
  },
  {
   "cell_type": "code",
   "execution_count": 58,
   "id": "d7e827ab-b5fe-4413-be12-57d319b875db",
   "metadata": {
    "tags": []
   },
   "outputs": [],
   "source": [
    "markdown_splitter = MarkdownHeaderTextSplitter(\n",
    "    headers_to_split_on=headers_to_split_on\n",
    ")\n",
    "md_header_splits = markdown_splitter.split_text(markdown_document)"
   ]
  },
  {
   "cell_type": "code",
   "execution_count": 59,
   "id": "9d18234b-3fa5-4de3-8d5e-cef80dea9972",
   "metadata": {
    "tags": []
   },
   "outputs": [
    {
     "data": {
      "text/plain": [
       "Document(page_content='Hi this is Jim  \\nHi this is Joe', metadata={'Header 1': 'Title', 'Header 2': 'Chapter 1'})"
      ]
     },
     "execution_count": 59,
     "metadata": {},
     "output_type": "execute_result"
    }
   ],
   "source": [
    "md_header_splits[0]"
   ]
  },
  {
   "cell_type": "code",
   "execution_count": 60,
   "id": "7f0f0457-fd7b-4f19-88e2-c2d90a0655d2",
   "metadata": {
    "tags": []
   },
   "outputs": [
    {
     "data": {
      "text/plain": [
       "Document(page_content='Hi this is Lance', metadata={'Header 1': 'Title', 'Header 2': 'Chapter 1', 'Header 3': 'Section'})"
      ]
     },
     "execution_count": 60,
     "metadata": {},
     "output_type": "execute_result"
    }
   ],
   "source": [
    "md_header_splits[1]"
   ]
  },
  {
   "cell_type": "code",
   "execution_count": 61,
   "id": "8fd1c7ad-e28c-49e1-ae3f-b24fc23e1bda",
   "metadata": {
    "tags": []
   },
   "outputs": [
    {
     "data": {
      "text/plain": [
       "Document(page_content='Hi this is Molly', metadata={'Header 1': 'Title', 'Header 2': 'Chapter 2'})"
      ]
     },
     "execution_count": 61,
     "metadata": {},
     "output_type": "execute_result"
    }
   ],
   "source": [
    "md_header_splits[2]"
   ]
  },
  {
   "cell_type": "code",
   "execution_count": 62,
   "id": "8ee26b10-03ed-4ced-980b-0f53422c3122",
   "metadata": {
    "tags": []
   },
   "outputs": [],
   "source": [
    "loader = NotionDirectoryLoader(\"docs/Notion_DB\")\n",
    "docs = loader.load()\n",
    "txt = ' '.join([d.page_content for d in docs])"
   ]
  },
  {
   "cell_type": "code",
   "execution_count": 63,
   "id": "9214bfe5-7bb6-4c2e-bcf8-25186a9d9372",
   "metadata": {
    "tags": []
   },
   "outputs": [
    {
     "data": {
      "text/plain": [
       "1"
      ]
     },
     "execution_count": 63,
     "metadata": {},
     "output_type": "execute_result"
    }
   ],
   "source": [
    "len(docs)"
   ]
  },
  {
   "cell_type": "code",
   "execution_count": 64,
   "id": "949dcad4-fc4a-466d-a08f-97922da807e7",
   "metadata": {
    "tags": []
   },
   "outputs": [
    {
     "data": {
      "text/plain": [
       "\"# Blendle's Employee Handbook\\n\\nThis is a living document with everything we've learned working with people while running a startup. And, of course, we continue to learn. Therefore it's a document that will continue to change. \\n\\n**Everything related to working at Blendle and the people of Blendle, made public.**\\n\\nThese are the lessons from three years of working with the people of Blendle. It contains everything from [how our leaders lead](https://www.notion.so/ecfb7e647136468a9a0a32f1771a8f52?pvs=21) to [how we increase salaries](https://www.notion.so/Salary-Review-e11b6161c6d34f5c9568bb3e83ed96b6?pvs=21), from [how we hire](https://www.notion.so/Hiring-451bbcfe8d9b49438c0633326bb7af0a?pvs=21) and [fire](https://www.notion.so/Firing-5567687a2000496b8412e53cd58eed9d?pvs=21) to [how we think people should give each other feedback](https://www.notion.so/Our-Feedback-Process-eb64f1de796b4350aeab3bc068e3801f?pvs=21) — and much more.\\n\\nWe've made this document public because we want to learn from you. We're very much interested in your feedback (including weeding out typo's and Dunglish ;)). Email us at hr@blendle.com. If you're starting your own company or if you're curious as to how we do things at Blendle, we hope that our employee handbook inspires you.\\n\\nIf you want to work at Blendle you can check our [job ads here](https://blendle.homerun.co/). If you want to be kept in the loop about Blendle, you can sign up for [our behind the scenes newsletter](https://blendle.homerun.co/yes-keep-me-posted/tr/apply?token=8092d4128c306003d97dd3821bad06f2).\\n\\n## Blendle general\\n\\n*Information gap closing in 3... 2... 1...*\\n\\n---\\n\\n[To Do/Read in your first week](Blendle's%20Employee%20Handbook%20e367aa77e225482c849111687e114a56/To%20Do%20Read%20in%20your%20first%20week%2017fbb01dc37b4118943b1db905cd57f2.md)\\n\\n[History](Blendle's%20Employee%20Handbook%20e367aa77e225482c849111687e114a56/History%20ac6441b1b7f7412796b072168db92fd2.md)\\n\\n[DNA & culture](Blendle's%20Employee%20Handbook%20e367aa77e225482c849111687e114a56/DNA%20&%20culture%20b5db7bb937384f809a81e84059050b3f.md)\\n\\n[General & practical ](Blendle's%20Employee%20Handbook%20e367aa77e225482c849111687e114a56/General%20&%20practical%20b8d9412f67c34a3e996bf4d3f390de5e.md)\\n\\n## People operations\\n\\n*You can tell a company's DNA by looking at how they deal with the practical stuff.*  \\n\\n---\\n\\n[Office](Blendle's%20Employee%20Handbook%20e367aa77e225482c849111687e114a56/Office%204e7a0f0ad8e34c50bba69cfd9f779038.md)\\n\\n[Time off: holidays and national holidays](Blendle's%20Employee%20Handbook%20e367aa77e225482c849111687e114a56/Time%20off%20holidays%20and%20national%20holidays%20b1b4abd60ae547e8b4088818da9e92e7.md)\\n\\n[Calling in sick/better](Blendle's%20Employee%20Handbook%20e367aa77e225482c849111687e114a56/Calling%20in%20sick%20better%204337662f835a4a00933b76b254758bc4.md)\\n\\n[Perks and benefits](Blendle's%20Employee%20Handbook%20e367aa77e225482c849111687e114a56/Perks%20and%20benefits%206b81f8a3deb5408a8385472cd797a3f7.md)\\n\\n[Travel costs and reimbursements](Blendle's%20Employee%20Handbook%20e367aa77e225482c849111687e114a56/Travel%20costs%20and%20reimbursements%204df295267aa74fe1a7fa1361571b6fbc.md)\\n\\n[Parenthood](Blendle's%20Employee%20Handbook%20e367aa77e225482c849111687e114a56/Parenthood%208cd588eff0984cdd983a9eea420c9e76.md)\\n\\n## People topics\\n\\n*Themes we care about.*\\n\\n---\\n\\n[Blendle Social Code](Blendle's%20Employee%20Handbook%20e367aa77e225482c849111687e114a56/Blendle%20Social%20Code%20d10a41a7746c4bd2ab4c3fe6db803f69.md)\\n\\n[Diversity and inclusion](Blendle's%20Employee%20Handbook%20e367aa77e225482c849111687e114a56/Diversity%20and%20inclusion%20dbd07fc1bf0849019f3f3ed242190055.md)\\n\\n[#letstalkaboutstress](Blendle's%20Employee%20Handbook%20e367aa77e225482c849111687e114a56/#letstalkaboutstress%20b814c542d1744bbb83bf7e1d63e4bdda.md)\\n\\n## Feedback and development\\n\\n*The number 1 reason for people to work at Blendle is growth and learning from smart people.*\\n\\n---\\n\\n[Your 1st month ](Blendle's%20Employee%20Handbook%20e367aa77e225482c849111687e114a56/Your%201st%20month%20c6f4af5517c84d4087e635587961fb0e.md)\\n\\n[Goals](Blendle's%20Employee%20Handbook%20e367aa77e225482c849111687e114a56/Goals%207258fc51173d42a79621ef9b3851e719.md)\\n\\n[Feedback cycle](Blendle's%20Employee%20Handbook%20e367aa77e225482c849111687e114a56/Feedback%20cycle%20e838f6e605064170bb0611f538915cb7.md)\\n\\n[The Matrix™ (job profiles)](Blendle's%20Employee%20Handbook%20e367aa77e225482c849111687e114a56/The%20Matrix%E2%84%A2%20(job%20profiles)%20df18f2beab014a7e89f442d0e459ad73.md)\\n\\n[Blendle library](Blendle's%20Employee%20Handbook%20e367aa77e225482c849111687e114a56/Blendle%20library%2064396b41895842d680d118f4ec17d346.md)\\n\\n## **Hiring**\\n\\n*The coolest and most impactful thing when done right.*\\n\\n---\\n\\n[Rating systems](Blendle's%20Employee%20Handbook%20e367aa77e225482c849111687e114a56/Rating%20systems%20036cb477bab342349ff0ceb54ab21478.md)\\n\\n[Getting people in (branding&sourcing)](Blendle's%20Employee%20Handbook%20e367aa77e225482c849111687e114a56/Getting%20people%20in%20(branding&sourcing)%20e050e6613efe4305b98d6b7b8c8916a3.md)\\n\\n[Highly Skilled Migrants and relocation](Blendle's%20Employee%20Handbook%20e367aa77e225482c849111687e114a56/Highly%20Skilled%20Migrants%20and%20relocation%204c00141c18fd472fb5770891381b65e2.md)\\n\\n## How to lead at Blendle\\n\\n*Here are some tips and tools to help you become a great leader.*\\n\\n---\\n\\n[How to lead at Blendle ](Blendle's%20Employee%20Handbook%20e367aa77e225482c849111687e114a56/How%20to%20lead%20at%20Blendle%20404698936d274095856523c94c396a62.md)\\n\\n[Your check-list](Blendle's%20Employee%20Handbook%20e367aa77e225482c849111687e114a56/Your%20check-list%2007455ff3b1364229bfc1ae3462e58030.md)\\n\\n[Leading Feedback ](Blendle's%20Employee%20Handbook%20e367aa77e225482c849111687e114a56/Leading%20Feedback%209ad2513f7ea14b7a8d2762db7c0b70c0.md)\\n\\n[Salary talks](Blendle's%20Employee%20Handbook%20e367aa77e225482c849111687e114a56/Salary%20talks%203c0befca9272403a8a045cace8686d8d.md)\\n\\n[Hiring ](Blendle's%20Employee%20Handbook%20e367aa77e225482c849111687e114a56/Hiring%208c7049f20ed74df982f8e05bc3dca30b.md)\\n\\n[Firing](Blendle's%20Employee%20Handbook%20e367aa77e225482c849111687e114a56/Firing%200a07fff173404adebf98ea7ef3a8eb7d.md)\\n\\n[Party and study budget](Blendle's%20Employee%20Handbook%20e367aa77e225482c849111687e114a56/Party%20and%20study%20budget%2049f8b0f9dfbf45ea8ed15dd11c99e28d.md)\\n\\n[Holidays](Blendle's%20Employee%20Handbook%20e367aa77e225482c849111687e114a56/Holidays%20629b666201b9416684d1d36ce6c63713.md)\\n\\n[Sickness absence](Blendle's%20Employee%20Handbook%20e367aa77e225482c849111687e114a56/Sickness%20absence%2075f3765b7698473aa45171b909ff1e65.md)\\n\\n[Personal User Guide](Blendle's%20Employee%20Handbook%20e367aa77e225482c849111687e114a56/Personal%20User%20Guide%2097a8516bc2cd44b7a565798e954a68a3.md)\\n\\n[Soft shizzle](Blendle's%20Employee%20Handbook%20e367aa77e225482c849111687e114a56/Soft%20shizzle%207c03996eeb634b12ad9093839cd11bde.md)\\n\\n## About this document\\n\\n---\\n\\n*Lessons from three years of HR*\\n\\n[About this document and the author](Blendle's%20Employee%20Handbook%20e367aa77e225482c849111687e114a56/About%20this%20document%20and%20the%20author%208c7a88f91b1d479ea729a6f47ef56d0c.md)\""
      ]
     },
     "execution_count": 64,
     "metadata": {},
     "output_type": "execute_result"
    }
   ],
   "source": [
    "txt"
   ]
  },
  {
   "cell_type": "code",
   "execution_count": 65,
   "id": "1fb1d392-2867-4317-a477-77f403a43509",
   "metadata": {
    "tags": []
   },
   "outputs": [
    {
     "data": {
      "text/plain": [
       "7180"
      ]
     },
     "execution_count": 65,
     "metadata": {},
     "output_type": "execute_result"
    }
   ],
   "source": [
    "len(txt)"
   ]
  },
  {
   "cell_type": "code",
   "execution_count": 66,
   "id": "ec7d2ac1-d63f-4e8a-9024-7a0aa06f5199",
   "metadata": {
    "tags": []
   },
   "outputs": [],
   "source": [
    "headers_to_split_on = [\n",
    "    (\"#\", \"Header 1\"),\n",
    "    (\"##\", \"Header 2\"),\n",
    "]\n",
    "markdown_splitter = MarkdownHeaderTextSplitter(\n",
    "    headers_to_split_on=headers_to_split_on\n",
    ")"
   ]
  },
  {
   "cell_type": "code",
   "execution_count": 67,
   "id": "362320f9-b4d5-4ce5-a91c-be7567c6933a",
   "metadata": {
    "tags": []
   },
   "outputs": [],
   "source": [
    "md_header_splits = markdown_splitter.split_text(txt)"
   ]
  },
  {
   "cell_type": "code",
   "execution_count": 68,
   "id": "3dc72b52-c382-463b-9562-0f7a9edf1628",
   "metadata": {
    "tags": []
   },
   "outputs": [
    {
     "data": {
      "text/plain": [
       "Document(page_content=\"This is a living document with everything we've learned working with people while running a startup. And, of course, we continue to learn. Therefore it's a document that will continue to change.  \\n**Everything related to working at Blendle and the people of Blendle, made public.**  \\nThese are the lessons from three years of working with the people of Blendle. It contains everything from [how our leaders lead](https://www.notion.so/ecfb7e647136468a9a0a32f1771a8f52?pvs=21) to [how we increase salaries](https://www.notion.so/Salary-Review-e11b6161c6d34f5c9568bb3e83ed96b6?pvs=21), from [how we hire](https://www.notion.so/Hiring-451bbcfe8d9b49438c0633326bb7af0a?pvs=21) and [fire](https://www.notion.so/Firing-5567687a2000496b8412e53cd58eed9d?pvs=21) to [how we think people should give each other feedback](https://www.notion.so/Our-Feedback-Process-eb64f1de796b4350aeab3bc068e3801f?pvs=21) — and much more.  \\nWe've made this document public because we want to learn from you. We're very much interested in your feedback (including weeding out typo's and Dunglish ;)). Email us at hr@blendle.com. If you're starting your own company or if you're curious as to how we do things at Blendle, we hope that our employee handbook inspires you.  \\nIf you want to work at Blendle you can check our [job ads here](https://blendle.homerun.co/). If you want to be kept in the loop about Blendle, you can sign up for [our behind the scenes newsletter](https://blendle.homerun.co/yes-keep-me-posted/tr/apply?token=8092d4128c306003d97dd3821bad06f2).\", metadata={'Header 1': \"Blendle's Employee Handbook\"})"
      ]
     },
     "execution_count": 68,
     "metadata": {},
     "output_type": "execute_result"
    }
   ],
   "source": [
    "md_header_splits[0]"
   ]
  },
  {
   "cell_type": "code",
   "execution_count": 69,
   "id": "c7679c7f-1c21-4d20-ae6f-9bf2d0b1636e",
   "metadata": {},
   "outputs": [
    {
     "data": {
      "text/plain": [
       "[Document(page_content=\"# Blendle's Employee Handbook\\n\\nThis is a living document with everything we've learned working with people while running a startup. And, of course, we continue to learn. Therefore it's a document that will continue to change. \\n\\n**Everything related to working at Blendle and the people of Blendle, made public.**\\n\\nThese are the lessons from three years of working with the people of Blendle. It contains everything from [how our leaders lead](https://www.notion.so/ecfb7e647136468a9a0a32f1771a8f52?pvs=21) to [how we increase salaries](https://www.notion.so/Salary-Review-e11b6161c6d34f5c9568bb3e83ed96b6?pvs=21), from [how we hire](https://www.notion.so/Hiring-451bbcfe8d9b49438c0633326bb7af0a?pvs=21) and [fire](https://www.notion.so/Firing-5567687a2000496b8412e53cd58eed9d?pvs=21) to [how we think people should give each other feedback](https://www.notion.so/Our-Feedback-Process-eb64f1de796b4350aeab3bc068e3801f?pvs=21) — and much more.\\n\\nWe've made this document public because we want to learn from you. We're very much interested in your feedback (including weeding out typo's and Dunglish ;)). Email us at hr@blendle.com. If you're starting your own company or if you're curious as to how we do things at Blendle, we hope that our employee handbook inspires you.\\n\\nIf you want to work at Blendle you can check our [job ads here](https://blendle.homerun.co/). If you want to be kept in the loop about Blendle, you can sign up for [our behind the scenes newsletter](https://blendle.homerun.co/yes-keep-me-posted/tr/apply?token=8092d4128c306003d97dd3821bad06f2).\\n\\n## Blendle general\\n\\n*Information gap closing in 3... 2... 1...*\\n\\n---\\n\\n[To Do/Read in your first week](Blendle's%20Employee%20Handbook%20e367aa77e225482c849111687e114a56/To%20Do%20Read%20in%20your%20first%20week%2017fbb01dc37b4118943b1db905cd57f2.md)\\n\\n[History](Blendle's%20Employee%20Handbook%20e367aa77e225482c849111687e114a56/History%20ac6441b1b7f7412796b072168db92fd2.md)\\n\\n[DNA & culture](Blendle's%20Employee%20Handbook%20e367aa77e225482c849111687e114a56/DNA%20&%20culture%20b5db7bb937384f809a81e84059050b3f.md)\\n\\n[General & practical ](Blendle's%20Employee%20Handbook%20e367aa77e225482c849111687e114a56/General%20&%20practical%20b8d9412f67c34a3e996bf4d3f390de5e.md)\\n\\n## People operations\\n\\n*You can tell a company's DNA by looking at how they deal with the practical stuff.*  \\n\\n---\\n\\n[Office](Blendle's%20Employee%20Handbook%20e367aa77e225482c849111687e114a56/Office%204e7a0f0ad8e34c50bba69cfd9f779038.md)\\n\\n[Time off: holidays and national holidays](Blendle's%20Employee%20Handbook%20e367aa77e225482c849111687e114a56/Time%20off%20holidays%20and%20national%20holidays%20b1b4abd60ae547e8b4088818da9e92e7.md)\\n\\n[Calling in sick/better](Blendle's%20Employee%20Handbook%20e367aa77e225482c849111687e114a56/Calling%20in%20sick%20better%204337662f835a4a00933b76b254758bc4.md)\\n\\n[Perks and benefits](Blendle's%20Employee%20Handbook%20e367aa77e225482c849111687e114a56/Perks%20and%20benefits%206b81f8a3deb5408a8385472cd797a3f7.md)\\n\\n[Travel costs and reimbursements](Blendle's%20Employee%20Handbook%20e367aa77e225482c849111687e114a56/Travel%20costs%20and%20reimbursements%204df295267aa74fe1a7fa1361571b6fbc.md)\\n\\n[Parenthood](Blendle's%20Employee%20Handbook%20e367aa77e225482c849111687e114a56/Parenthood%208cd588eff0984cdd983a9eea420c9e76.md)\\n\\n## People topics\\n\\n*Themes we care about.*\\n\\n---\\n\\n[Blendle Social Code](Blendle's%20Employee%20Handbook%20e367aa77e225482c849111687e114a56/Blendle%20Social%20Code%20d10a41a7746c4bd2ab4c3fe6db803f69.md)\\n\\n[Diversity and inclusion](Blendle's%20Employee%20Handbook%20e367aa77e225482c849111687e114a56/Diversity%20and%20inclusion%20dbd07fc1bf0849019f3f3ed242190055.md)\\n\\n[#letstalkaboutstress](Blendle's%20Employee%20Handbook%20e367aa77e225482c849111687e114a56/#letstalkaboutstress%20b814c542d1744bbb83bf7e1d63e4bdda.md)\\n\\n## Feedback and development\\n\\n*The number 1 reason for people to work at Blendle is growth and learning from smart people.*\\n\\n---\\n\\n[Your 1st month ](Blendle's%20Employee%20Handbook%20e367aa77e225482c849111687e114a56/Your%201st%20month%20c6f4af5517c84d4087e635587961fb0e.md)\\n\\n[Goals](Blendle's%20Employee%20Handbook%20e367aa77e225482c849111687e114a56/Goals%207258fc51173d42a79621ef9b3851e719.md)\\n\\n[Feedback cycle](Blendle's%20Employee%20Handbook%20e367aa77e225482c849111687e114a56/Feedback%20cycle%20e838f6e605064170bb0611f538915cb7.md)\\n\\n[The Matrix™ (job profiles)](Blendle's%20Employee%20Handbook%20e367aa77e225482c849111687e114a56/The%20Matrix%E2%84%A2%20(job%20profiles)%20df18f2beab014a7e89f442d0e459ad73.md)\\n\\n[Blendle library](Blendle's%20Employee%20Handbook%20e367aa77e225482c849111687e114a56/Blendle%20library%2064396b41895842d680d118f4ec17d346.md)\\n\\n## **Hiring**\\n\\n*The coolest and most impactful thing when done right.*\\n\\n---\\n\\n[Rating systems](Blendle's%20Employee%20Handbook%20e367aa77e225482c849111687e114a56/Rating%20systems%20036cb477bab342349ff0ceb54ab21478.md)\\n\\n[Getting people in (branding&sourcing)](Blendle's%20Employee%20Handbook%20e367aa77e225482c849111687e114a56/Getting%20people%20in%20(branding&sourcing)%20e050e6613efe4305b98d6b7b8c8916a3.md)\\n\\n[Highly Skilled Migrants and relocation](Blendle's%20Employee%20Handbook%20e367aa77e225482c849111687e114a56/Highly%20Skilled%20Migrants%20and%20relocation%204c00141c18fd472fb5770891381b65e2.md)\\n\\n## How to lead at Blendle\\n\\n*Here are some tips and tools to help you become a great leader.*\\n\\n---\\n\\n[How to lead at Blendle ](Blendle's%20Employee%20Handbook%20e367aa77e225482c849111687e114a56/How%20to%20lead%20at%20Blendle%20404698936d274095856523c94c396a62.md)\\n\\n[Your check-list](Blendle's%20Employee%20Handbook%20e367aa77e225482c849111687e114a56/Your%20check-list%2007455ff3b1364229bfc1ae3462e58030.md)\\n\\n[Leading Feedback ](Blendle's%20Employee%20Handbook%20e367aa77e225482c849111687e114a56/Leading%20Feedback%209ad2513f7ea14b7a8d2762db7c0b70c0.md)\\n\\n[Salary talks](Blendle's%20Employee%20Handbook%20e367aa77e225482c849111687e114a56/Salary%20talks%203c0befca9272403a8a045cace8686d8d.md)\\n\\n[Hiring ](Blendle's%20Employee%20Handbook%20e367aa77e225482c849111687e114a56/Hiring%208c7049f20ed74df982f8e05bc3dca30b.md)\\n\\n[Firing](Blendle's%20Employee%20Handbook%20e367aa77e225482c849111687e114a56/Firing%200a07fff173404adebf98ea7ef3a8eb7d.md)\\n\\n[Party and study budget](Blendle's%20Employee%20Handbook%20e367aa77e225482c849111687e114a56/Party%20and%20study%20budget%2049f8b0f9dfbf45ea8ed15dd11c99e28d.md)\\n\\n[Holidays](Blendle's%20Employee%20Handbook%20e367aa77e225482c849111687e114a56/Holidays%20629b666201b9416684d1d36ce6c63713.md)\\n\\n[Sickness absence](Blendle's%20Employee%20Handbook%20e367aa77e225482c849111687e114a56/Sickness%20absence%2075f3765b7698473aa45171b909ff1e65.md)\\n\\n[Personal User Guide](Blendle's%20Employee%20Handbook%20e367aa77e225482c849111687e114a56/Personal%20User%20Guide%2097a8516bc2cd44b7a565798e954a68a3.md)\\n\\n[Soft shizzle](Blendle's%20Employee%20Handbook%20e367aa77e225482c849111687e114a56/Soft%20shizzle%207c03996eeb634b12ad9093839cd11bde.md)\\n\\n## About this document\\n\\n---\\n\\n*Lessons from three years of HR*\\n\\n[About this document and the author](Blendle's%20Employee%20Handbook%20e367aa77e225482c849111687e114a56/About%20this%20document%20and%20the%20author%208c7a88f91b1d479ea729a6f47ef56d0c.md)\", metadata={'source': \"docs/Notion_DB/Blendle's Employee Handbook e367aa77e225482c849111687e114a56.md\"})]"
      ]
     },
     "execution_count": 69,
     "metadata": {},
     "output_type": "execute_result"
    }
   ],
   "source": [
    "docs"
   ]
  },
  {
   "cell_type": "code",
   "execution_count": 70,
   "id": "bd3afb73-031b-4847-bbd7-7586520f8db9",
   "metadata": {
    "tags": []
   },
   "outputs": [
    {
     "data": {
      "text/plain": [
       "1"
      ]
     },
     "execution_count": 70,
     "metadata": {},
     "output_type": "execute_result"
    }
   ],
   "source": [
    "len(docs)"
   ]
  },
  {
   "cell_type": "code",
   "execution_count": 71,
   "id": "726c0962-047f-4773-abf7-9896347c0016",
   "metadata": {
    "tags": []
   },
   "outputs": [
    {
     "data": {
      "text/plain": [
       "8"
      ]
     },
     "execution_count": 71,
     "metadata": {},
     "output_type": "execute_result"
    }
   ],
   "source": [
    "len(md_header_splits)"
   ]
  },
  {
   "cell_type": "code",
   "execution_count": 72,
   "id": "fc3b49af-67db-49ff-ac3c-bf74e829dbc1",
   "metadata": {
    "tags": []
   },
   "outputs": [
    {
     "data": {
      "text/plain": [
       "Document(page_content=\"*Information gap closing in 3... 2... 1...*  \\n---  \\n[To Do/Read in your first week](Blendle's%20Employee%20Handbook%20e367aa77e225482c849111687e114a56/To%20Do%20Read%20in%20your%20first%20week%2017fbb01dc37b4118943b1db905cd57f2.md)  \\n[History](Blendle's%20Employee%20Handbook%20e367aa77e225482c849111687e114a56/History%20ac6441b1b7f7412796b072168db92fd2.md)  \\n[DNA & culture](Blendle's%20Employee%20Handbook%20e367aa77e225482c849111687e114a56/DNA%20&%20culture%20b5db7bb937384f809a81e84059050b3f.md)  \\n[General & practical ](Blendle's%20Employee%20Handbook%20e367aa77e225482c849111687e114a56/General%20&%20practical%20b8d9412f67c34a3e996bf4d3f390de5e.md)\", metadata={'Header 1': \"Blendle's Employee Handbook\", 'Header 2': 'Blendle general'})"
      ]
     },
     "execution_count": 72,
     "metadata": {},
     "output_type": "execute_result"
    }
   ],
   "source": [
    "md_header_splits[1]"
   ]
  },
  {
   "cell_type": "code",
   "execution_count": 73,
   "id": "2179fc6f-f897-4275-bb0b-a4d4fc96ddd5",
   "metadata": {
    "tags": []
   },
   "outputs": [
    {
     "data": {
      "text/plain": [
       "Document(page_content=\"*You can tell a company's DNA by looking at how they deal with the practical stuff.*  \\n---  \\n[Office](Blendle's%20Employee%20Handbook%20e367aa77e225482c849111687e114a56/Office%204e7a0f0ad8e34c50bba69cfd9f779038.md)  \\n[Time off: holidays and national holidays](Blendle's%20Employee%20Handbook%20e367aa77e225482c849111687e114a56/Time%20off%20holidays%20and%20national%20holidays%20b1b4abd60ae547e8b4088818da9e92e7.md)  \\n[Calling in sick/better](Blendle's%20Employee%20Handbook%20e367aa77e225482c849111687e114a56/Calling%20in%20sick%20better%204337662f835a4a00933b76b254758bc4.md)  \\n[Perks and benefits](Blendle's%20Employee%20Handbook%20e367aa77e225482c849111687e114a56/Perks%20and%20benefits%206b81f8a3deb5408a8385472cd797a3f7.md)  \\n[Travel costs and reimbursements](Blendle's%20Employee%20Handbook%20e367aa77e225482c849111687e114a56/Travel%20costs%20and%20reimbursements%204df295267aa74fe1a7fa1361571b6fbc.md)  \\n[Parenthood](Blendle's%20Employee%20Handbook%20e367aa77e225482c849111687e114a56/Parenthood%208cd588eff0984cdd983a9eea420c9e76.md)\", metadata={'Header 1': \"Blendle's Employee Handbook\", 'Header 2': 'People operations'})"
      ]
     },
     "execution_count": 73,
     "metadata": {},
     "output_type": "execute_result"
    }
   ],
   "source": [
    "md_header_splits[2]"
   ]
  },
  {
   "cell_type": "code",
   "execution_count": null,
   "id": "3f5af7a1-2655-447e-8915-ec48e4310947",
   "metadata": {},
   "outputs": [],
   "source": []
  }
 ],
 "metadata": {
  "kernelspec": {
   "display_name": "Python 3 (ipykernel)",
   "language": "python",
   "name": "python3"
  },
  "language_info": {
   "codemirror_mode": {
    "name": "ipython",
    "version": 3
   },
   "file_extension": ".py",
   "mimetype": "text/x-python",
   "name": "python",
   "nbconvert_exporter": "python",
   "pygments_lexer": "ipython3",
   "version": "3.10.13"
  }
 },
 "nbformat": 4,
 "nbformat_minor": 5
}
